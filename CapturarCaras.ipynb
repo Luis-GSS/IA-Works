{
 "cells": [
  {
   "cell_type": "code",
   "execution_count": 17,
   "id": "8c52a0a5-b926-4f96-a20c-61df693b1d9b",
   "metadata": {},
   "outputs": [],
   "source": [
    "import cv2 as cv\n",
    "from time import sleep\n",
    "cap = cv.VideoCapture('sincubre.mp4')\n",
    "i=0\n",
    "while cap.isOpened():\n",
    "    ret, im = cap.read()\n",
    "    \n",
    "    if ret==False:\n",
    "        break\n",
    "    \n",
    "    # Obtén las dimensiones de la imagen\n",
    "    height, width, _ = im.shape\n",
    "\n",
    "    # Calcula las coordenadas del rectángulo para que esté en el centro\n",
    "    x1 = int(width / 2) - 125  # 150 es la mitad del ancho del rectángulo\n",
    "    y1 = int(height / 2) - 200  # 150 es la mitad del alto del rectángulo\n",
    "    x2 = int(width / 2) + 125\n",
    "    y2 = int(height / 2) + 100\n",
    "    \n",
    "    im = cv.rectangle(im, (x1,y1), (x2,y2), (0,255,0), 2)\n",
    "    cuadro = im[y1:y2, x1:x2]\n",
    "    mini = cv.resize(cuadro,(45,45))\n",
    "    \n",
    "    cv.imshow('Video', im)\n",
    "    cv.imshow('Cuadro', cuadro)\n",
    "    cv.imshow(\"Mini\", mini)\n",
    "    k=cv.waitKey(1)\n",
    "    if k == ord('s'):\n",
    "        i=i+1\n",
    "        cv.imwrite('Dataset1/n/ej'+str(i)+'.jpg', mini)\n",
    "        if (i == 2833 or i == 1000):\n",
    "            print(i)\n",
    "    if k == 27:\n",
    "        break\n",
    "    sleep(1/30)\n",
    "cap.release()\n",
    "cv.destroyAllWindows() "
   ]
  },
  {
   "cell_type": "code",
   "execution_count": null,
   "id": "7a82fe6f-fcd0-46c6-ac60-3b4cdfce1241",
   "metadata": {},
   "outputs": [],
   "source": []
  }
 ],
 "metadata": {
  "kernelspec": {
   "display_name": "Python 3 (ipykernel)",
   "language": "python",
   "name": "python3"
  },
  "language_info": {
   "codemirror_mode": {
    "name": "ipython",
    "version": 3
   },
   "file_extension": ".py",
   "mimetype": "text/x-python",
   "name": "python",
   "nbconvert_exporter": "python",
   "pygments_lexer": "ipython3",
   "version": "3.9.18"
  }
 },
 "nbformat": 4,
 "nbformat_minor": 5
}
