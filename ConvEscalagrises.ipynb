{
 "cells": [
  {
   "cell_type": "code",
   "execution_count": 2,
   "id": "c848108b-c61c-4d7d-bec8-15402fbf4b7f",
   "metadata": {},
   "outputs": [],
   "source": [
    "import cv2\n",
    "import os\n",
    "\n",
    "def convertir_a_escala_de_grises(directorio_entrada, directorio_salida):\n",
    "    # Verificar si el directorio de salida existe, si no, crearlo\n",
    "    if not os.path.exists(directorio_salida):\n",
    "        os.makedirs(directorio_salida)\n",
    "\n",
    "    # Obtener la lista de archivos en el directorio de entrada\n",
    "    archivos = os.listdir(directorio_entrada)\n",
    "\n",
    "    for archivo in archivos:\n",
    "        # Obtener la ruta completa de la imagen de entrada\n",
    "        ruta_entrada = os.path.join(directorio_entrada, archivo)\n",
    "\n",
    "        # Leer la imagen\n",
    "        imagen = cv2.imread(ruta_entrada)\n",
    "\n",
    "        # Convertir la imagen a escala de grises\n",
    "        imagen_gris = cv2.cvtColor(imagen, cv2.COLOR_BGR2GRAY)\n",
    "\n",
    "        # Obtener la ruta completa de la imagen de salida\n",
    "        ruta_salida = os.path.join(directorio_salida, archivo)\n",
    "\n",
    "        # Guardar la imagen en escala de grises en el directorio de salida\n",
    "        cv2.imwrite(ruta_salida, imagen_gris)\n",
    "\n",
    "if __name__ == \"__main__\":\n",
    "    # Especifica el directorio de entrada y de salida\n",
    "    directorio_entrada = \"Dataset1/p\"\n",
    "    directorio_salida = \"Dataset2/p\"\n",
    "\n",
    "    # Llama a la función para convertir a escala de grises\n",
    "    convertir_a_escala_de_grises(directorio_entrada, directorio_salida)\n"
   ]
  },
  {
   "cell_type": "code",
   "execution_count": null,
   "id": "f34aa5d9-a4cf-46b4-80e7-3b5bfa7271dd",
   "metadata": {},
   "outputs": [],
   "source": []
  }
 ],
 "metadata": {
  "kernelspec": {
   "display_name": "Python 3 (ipykernel)",
   "language": "python",
   "name": "python3"
  },
  "language_info": {
   "codemirror_mode": {
    "name": "ipython",
    "version": 3
   },
   "file_extension": ".py",
   "mimetype": "text/x-python",
   "name": "python",
   "nbconvert_exporter": "python",
   "pygments_lexer": "ipython3",
   "version": "3.9.18"
  }
 },
 "nbformat": 4,
 "nbformat_minor": 5
}
